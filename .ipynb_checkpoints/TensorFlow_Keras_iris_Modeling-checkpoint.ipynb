{
 "cells": [
  {
   "cell_type": "markdown",
   "id": "aca719c6",
   "metadata": {},
   "source": [
    "+ 다음작업은 Mulitcampus - Data Science 과정에서 가져왔습니다.\n",
    "+ The following code works are from the Data Science lecture at Multicampus."
   ]
  },
  {
   "cell_type": "markdown",
   "id": "ohRLpa8t6tIm",
   "metadata": {
    "id": "ohRLpa8t6tIm"
   },
   "source": [
    "# Keras iris Modeling"
   ]
  },
  {
   "cell_type": "code",
   "execution_count": 2,
   "id": "nXlPFhn9murG",
   "metadata": {
    "executionInfo": {
     "elapsed": 295,
     "status": "ok",
     "timestamp": 1632824454731,
     "user": {
      "displayName": "Joon Chun",
      "photoUrl": "https://lh3.googleusercontent.com/a/default-user=s64",
      "userId": "11589729376972489768"
     },
     "user_tz": -540
    },
    "id": "nXlPFhn9murG"
   },
   "outputs": [],
   "source": [
    "import warnings\n",
    "warnings.filterwarnings('ignore')"
   ]
  },
  {
   "cell_type": "code",
   "execution_count": 4,
   "id": "vCgR871e64Ss",
   "metadata": {
    "executionInfo": {
     "elapsed": 1110,
     "status": "ok",
     "timestamp": 1632824510902,
     "user": {
      "displayName": "Joon Chun",
      "photoUrl": "https://lh3.googleusercontent.com/a/default-user=s64",
      "userId": "11589729376972489768"
     },
     "user_tz": -540
    },
    "id": "vCgR871e64Ss"
   },
   "outputs": [],
   "source": [
    "import seaborn as sns\n",
    "\n",
    "iris = sns.load_dataset('iris')"
   ]
  },
  {
   "cell_type": "code",
   "execution_count": null,
   "id": "hTvV95h_7Ha5",
   "metadata": {
    "id": "hTvV95h_7Ha5"
   },
   "outputs": [],
   "source": []
  }
 ],
 "metadata": {
  "colab": {
   "collapsed_sections": [],
   "name": "TensorFlow_Keras_iris_Modeling.ipynb",
   "provenance": []
  },
  "kernelspec": {
   "display_name": "Python 3 (ipykernel)",
   "language": "python",
   "name": "python3"
  },
  "language_info": {
   "codemirror_mode": {
    "name": "ipython",
    "version": 3
   },
   "file_extension": ".py",
   "mimetype": "text/x-python",
   "name": "python",
   "nbconvert_exporter": "python",
   "pygments_lexer": "ipython3",
   "version": "3.9.7"
  },
  "toc": {
   "base_numbering": 1,
   "nav_menu": {},
   "number_sections": true,
   "sideBar": true,
   "skip_h1_title": false,
   "title_cell": "Table of Contents",
   "title_sidebar": "Contents",
   "toc_cell": false,
   "toc_position": {},
   "toc_section_display": true,
   "toc_window_display": false
  }
 },
 "nbformat": 4,
 "nbformat_minor": 5
}
