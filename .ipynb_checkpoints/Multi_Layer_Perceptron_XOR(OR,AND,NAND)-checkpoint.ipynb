{
 "cells": [
  {
   "cell_type": "markdown",
   "metadata": {},
   "source": [
    "+ 다음작업은 Mulitcampus - Data Science 과정에서 가져왔습니다.\n",
    "+ The following code works are from the Data Science lecture at Multicampus."
   ]
  },
  {
   "cell_type": "markdown",
   "metadata": {
    "id": "TURKmnPqA-fn"
   },
   "source": [
    "# I. 수치미분 Numerical Derivative"
   ]
  },
  {
   "cell_type": "code",
   "execution_count": 2,
   "metadata": {
    "executionInfo": {
     "elapsed": 278,
     "status": "ok",
     "timestamp": 1632725431285,
     "user": {
      "displayName": "Joon Chun",
      "photoUrl": "https://lh3.googleusercontent.com/a/default-user=s64",
      "userId": "11589729376972489768"
     },
     "user_tz": -540
    },
    "id": "E2nUJmh7kTo1"
   },
   "outputs": [],
   "source": [
    "import warnings\n",
    "warnings.filterwarnings('ignore')\n",
    "import numpy as np\n"
   ]
  },
  {
   "cell_type": "markdown",
   "metadata": {
    "id": "TBwt_4RxDCyd"
   },
   "source": [
    "## 1) gradient() 함수 정의"
   ]
  },
  {
   "cell_type": "code",
   "execution_count": 3,
   "metadata": {
    "executionInfo": {
     "elapsed": 280,
     "status": "ok",
     "timestamp": 1632725630934,
     "user": {
      "displayName": "Joon Chun",
      "photoUrl": "https://lh3.googleusercontent.com/a/default-user=s64",
      "userId": "11589729376972489768"
     },
     "user_tz": -540
    },
    "id": "fQuxH2UCkdOZ"
   },
   "outputs": [],
   "source": [
    "def gradient (machine, param):\n",
    "  if param.ndim == 1:\n",
    "    temp_param = param\n",
    "    delta  = 0.00005\n",
    "    learned_param = np.zeros(param.shape)\n",
    "\n",
    "    for i in range(len(param)):\n",
    "      target_param = float(temp_param[i])\n",
    "      temp_param[i] = target_param + delta\n",
    "      param_plus_delta = machine(temp_param)\n",
    "      temp_param[i] = target_param - delta\n",
    "      param_minus_delta = machine( temp_param)\n",
    "      learned_param[i] = (param_plus_delta - param_minus_delta) / (2*delta)\n",
    "      temp_param[i] = target_param\n",
    "\n",
    "    return learned_param\n",
    "\n",
    "  elif param.ndim == 2:\n",
    "    temp_param = param\n",
    "    delta = 0.00005\n",
    "    learned_param = np.zeros(param.shape)\n",
    "\n",
    "    rows = param.shape[0]\n",
    "    columns = param.shape[1]\n",
    "\n",
    "    for row in range(rows) :\n",
    "      for column in range(columns):\n",
    "        target_param = float(temp_param[row, column])\n",
    "        temp_param[row, column] = target_param + delta\n",
    "        param_plus_delta = machine(temp_param)\n",
    "        temp_param[row, column] = target_param - delta\n",
    "        param_minus_delta = machine( temp_param)\n",
    "        learned_param[row, column] = (param_plus_delta - param_minus_delta) / (2*delta)\n",
    "        temp_param[row, column] = target_param\n",
    "    return learned_param"
   ]
  },
  {
   "cell_type": "markdown",
   "metadata": {
    "id": "-d5RwyAFDLQo"
   },
   "source": [
    "# II. Logic Gate() - 'AND','OR','NANA'"
   ]
  },
  {
   "cell_type": "code",
   "execution_count": 5,
   "metadata": {
    "executionInfo": {
     "elapsed": 281,
     "status": "ok",
     "timestamp": 1632725987391,
     "user": {
      "displayName": "Joon Chun",
      "photoUrl": "https://lh3.googleusercontent.com/a/default-user=s64",
      "userId": "11589729376972489768"
     },
     "user_tz": -540
    },
    "id": "nVTTLAhTnWpp"
   },
   "outputs": [],
   "source": [
    "def sigmoid(x):\n",
    "    y_hat = 1 / (1 + np.exp(-x))\n",
    "    return y_hat"
   ]
  },
  {
   "cell_type": "markdown",
   "metadata": {
    "id": "zmEMdSjADZGJ"
   },
   "source": [
    "## 1) LogicGate 클래스 선언"
   ]
  },
  {
   "cell_type": "code",
   "execution_count": null,
   "metadata": {
    "id": "Ueeubp2PnbI4"
   },
   "outputs": [],
   "source": [
    "class LogicGate:\n",
    "\n",
    "  def __init__(self, gate_Type, X_input, y_output):\n",
    "\n",
    "# gate_Type 문자열 지정 Member\n",
    "    self.Type = gate_Type\n",
    "\n",
    "# X_input, y_output Member 초기화\n",
    "    self.X_input = X_input.reshape(4,2)\n",
    "    self.y_output = y_output.reshape(4,1)\n",
    "\n",
    "# W, b Member 초기화\n",
    "    self.W = np.random.rand(2,1)\n",
    "    self.b = np.random.rand(1)\n",
    "\n",
    "# learning_rate Member 지정\n",
    "    self.learning_rate = 0.01\n",
    "\n",
    "\n",
    "  def cost_func(self):\n",
    "    z = np.dot(self.X_input, self.W) + self.b\n",
    "    y_hat = sigmoid(z)\n",
    "    delta = 0.00001\n",
    "    return -np.sum(self.y_output * np.log(y_hat + delta) + (1 - self.y_output)* np.log((1-y_hat)+delta))\n",
    "\n",
    "# Learning Method\n",
    "  def learn(self):\n",
    "    "
   ]
  }
 ],
 "metadata": {
  "colab": {
   "authorship_tag": "ABX9TyMHTowviiHA9ecvC4RW1ATe",
   "collapsed_sections": [],
   "name": "Multi_Layer_Perceptron_XOR(OR,AND,NAND).ipynb",
   "provenance": []
  },
  "kernelspec": {
   "display_name": "Python 3 (ipykernel)",
   "language": "python",
   "name": "python3"
  },
  "language_info": {
   "codemirror_mode": {
    "name": "ipython",
    "version": 3
   },
   "file_extension": ".py",
   "mimetype": "text/x-python",
   "name": "python",
   "nbconvert_exporter": "python",
   "pygments_lexer": "ipython3",
   "version": "3.9.7"
  },
  "toc": {
   "base_numbering": 1,
   "nav_menu": {},
   "number_sections": true,
   "sideBar": true,
   "skip_h1_title": false,
   "title_cell": "Table of Contents",
   "title_sidebar": "Contents",
   "toc_cell": false,
   "toc_position": {},
   "toc_section_display": true,
   "toc_window_display": false
  }
 },
 "nbformat": 4,
 "nbformat_minor": 1
}
