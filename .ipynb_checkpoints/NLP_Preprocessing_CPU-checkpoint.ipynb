{
 "cells": [
  {
   "cell_type": "markdown",
   "metadata": {},
   "source": [
    "+ 다음작업은 Mulitcampus - Data Science 과정에서 가져왔습니다.\n",
    "+ The following code works are from the Data Science lecture at Multicampus."
   ]
  },
  {
   "cell_type": "markdown",
   "metadata": {
    "id": "639BJgw2C9qL"
   },
   "source": [
    "# NLP Preprocessing"
   ]
  },
  {
   "cell_type": "code",
   "execution_count": 1,
   "metadata": {
    "executionInfo": {
     "elapsed": 5,
     "status": "ok",
     "timestamp": 1633322334477,
     "user": {
      "displayName": "Joon Chun",
      "photoUrl": "https://lh3.googleusercontent.com/a/default-user=s64",
      "userId": "11589729376972489768"
     },
     "user_tz": -540
    },
    "id": "RbPgODpVzdHI"
   },
   "outputs": [],
   "source": [
    "import warnings\n",
    "warnings.filterwarnings('ignore')"
   ]
  },
  {
   "cell_type": "markdown",
   "metadata": {
    "id": "Kh_HVEagpB_D"
   },
   "source": [
    "# I. Tokenization"
   ]
  },
  {
   "cell_type": "markdown",
   "metadata": {
    "id": "8kAGmHLXDJAp"
   },
   "source": [
    "> ## 1) 영어 : NLTK(Natural Language ToolKit)"
   ]
  },
  {
   "cell_type": "code",
   "execution_count": 2,
   "metadata": {
    "colab": {
     "base_uri": "https://localhost:8080/"
    },
    "executionInfo": {
     "elapsed": 2204,
     "status": "ok",
     "timestamp": 1633322345476,
     "user": {
      "displayName": "Joon Chun",
      "photoUrl": "https://lh3.googleusercontent.com/a/default-user=s64",
      "userId": "11589729376972489768"
     },
     "user_tz": -540
    },
    "id": "cDoUfry3Bemz",
    "outputId": "245cb50b-8186-49f0-dcfc-bd2d83bb1bcb"
   },
   "outputs": [
    {
     "name": "stdout",
     "output_type": "stream",
     "text": [
      "[nltk_data] Downloading package punkt to /root/nltk_data...\n",
      "[nltk_data]   Unzipping tokenizers/punkt.zip.\n"
     ]
    },
    {
     "data": {
      "text/plain": [
       "True"
      ]
     },
     "execution_count": 2,
     "metadata": {},
     "output_type": "execute_result"
    }
   ],
   "source": [
    "import nltk\n",
    "\n",
    "nltk.download('punkt')"
   ]
  },
  {
   "cell_type": "markdown",
   "metadata": {
    "id": "AdVBO3ypqYAF"
   },
   "source": [
    "> ### (1) 문장 토큰화 : sent_tokenize( )"
   ]
  },
  {
   "cell_type": "code",
   "execution_count": 3,
   "metadata": {
    "colab": {
     "base_uri": "https://localhost:8080/"
    },
    "executionInfo": {
     "elapsed": 421,
     "status": "ok",
     "timestamp": 1633322354218,
     "user": {
      "displayName": "Joon Chun",
      "photoUrl": "https://lh3.googleusercontent.com/a/default-user=s64",
      "userId": "11589729376972489768"
     },
     "user_tz": -540
    },
    "id": "k7vJH0SjqcaI",
    "outputId": "3325e1ce-8178-476b-d34b-af865b61f619"
   },
   "outputs": [
    {
     "data": {
      "text/plain": [
       "['The X-Files is an American science fiction drama television series created by Chris Carter.',\n",
       " 'The original television series aired from September 10, 1993 to May 19, 2002 on Fox.',\n",
       " 'The program spanned nine seasons, with 202 episodes.']"
      ]
     },
     "execution_count": 3,
     "metadata": {},
     "output_type": "execute_result"
    }
   ],
   "source": [
    "from nltk import sent_tokenize\n",
    "\n",
    "sentences = 'The X-Files is an American science fiction drama television series \\\n",
    "created by Chris Carter. \\\n",
    "             The original television series aired from September 10, 1993 \\\n",
    "to May 19, 2002 on Fox. \\\n",
    "             The program spanned nine seasons, with 202 episodes.'\n",
    "\n",
    "sent_tokenize(sentences)"
   ]
  },
  {
   "cell_type": "markdown",
   "metadata": {
    "id": "Jjrg-06NDbbQ"
   },
   "source": [
    "> ### (2) 단어 토큰화 : word_tokenize( )"
   ]
  },
  {
   "cell_type": "code",
   "execution_count": 4,
   "metadata": {
    "executionInfo": {
     "elapsed": 257,
     "status": "ok",
     "timestamp": 1633322358648,
     "user": {
      "displayName": "Joon Chun",
      "photoUrl": "https://lh3.googleusercontent.com/a/default-user=s64",
      "userId": "11589729376972489768"
     },
     "user_tz": -540
    },
    "id": "9yvJOSQX-0Sf"
   },
   "outputs": [],
   "source": [
    "from nltk.tokenize import word_tokenize"
   ]
  },
  {
   "cell_type": "code",
   "execution_count": 5,
   "metadata": {
    "colab": {
     "base_uri": "https://localhost:8080/"
    },
    "executionInfo": {
     "elapsed": 860,
     "status": "ok",
     "timestamp": 1633322366227,
     "user": {
      "displayName": "Joon Chun",
      "photoUrl": "https://lh3.googleusercontent.com/a/default-user=s64",
      "userId": "11589729376972489768"
     },
     "user_tz": -540
    },
    "id": "N-icwNGL_kzm",
    "outputId": "0c1a5cf9-7f6f-41e4-a40b-4d18f9b837ec"
   },
   "outputs": [
    {
     "data": {
      "text/plain": [
       "['The', 'truth', 'is', 'out', 'there', '.']"
      ]
     },
     "execution_count": 5,
     "metadata": {},
     "output_type": "execute_result"
    }
   ],
   "source": [
    "text = 'The truth is out there.'\n",
    "\n",
    "word_tokenize(text)"
   ]
  },
  {
   "cell_type": "markdown",
   "metadata": {
    "id": "crB1Uea0D4sN"
   },
   "source": [
    "> ### (3) 단어 품사(Part Of Speech) 태깅 : pos_tag( )"
   ]
  },
  {
   "cell_type": "code",
   "execution_count": 6,
   "metadata": {
    "executionInfo": {
     "elapsed": 530,
     "status": "ok",
     "timestamp": 1633322393435,
     "user": {
      "displayName": "Joon Chun",
      "photoUrl": "https://lh3.googleusercontent.com/a/default-user=s64",
      "userId": "11589729376972489768"
     },
     "user_tz": -540
    },
    "id": "JU5LqsjBCBC6"
   },
   "outputs": [],
   "source": [
    "from nltk.tag import pos_tag"
   ]
  },
  {
   "cell_type": "code",
   "execution_count": 7,
   "metadata": {
    "colab": {
     "base_uri": "https://localhost:8080/"
    },
    "executionInfo": {
     "elapsed": 241,
     "status": "ok",
     "timestamp": 1633322401034,
     "user": {
      "displayName": "Joon Chun",
      "photoUrl": "https://lh3.googleusercontent.com/a/default-user=s64",
      "userId": "11589729376972489768"
     },
     "user_tz": -540
    },
    "id": "RLBKvue0CJwe",
    "outputId": "80e05710-b4da-435a-880b-4e8e59709cd9"
   },
   "outputs": [
    {
     "name": "stdout",
     "output_type": "stream",
     "text": [
      "[nltk_data] Downloading package averaged_perceptron_tagger to\n",
      "[nltk_data]     /root/nltk_data...\n",
      "[nltk_data]   Unzipping taggers/averaged_perceptron_tagger.zip.\n"
     ]
    },
    {
     "data": {
      "text/plain": [
       "True"
      ]
     },
     "execution_count": 7,
     "metadata": {},
     "output_type": "execute_result"
    }
   ],
   "source": [
    "nltk.download('averaged_perceptron_tagger')"
   ]
  },
  {
   "cell_type": "code",
   "execution_count": 8,
   "metadata": {
    "colab": {
     "base_uri": "https://localhost:8080/"
    },
    "executionInfo": {
     "elapsed": 261,
     "status": "ok",
     "timestamp": 1633322406883,
     "user": {
      "displayName": "Joon Chun",
      "photoUrl": "https://lh3.googleusercontent.com/a/default-user=s64",
      "userId": "11589729376972489768"
     },
     "user_tz": -540
    },
    "id": "v0XzmeyzCDFy",
    "outputId": "d596803a-a460-4b09-c845-a69152c18256"
   },
   "outputs": [
    {
     "data": {
      "text/plain": [
       "[('The', 'DT'),\n",
       " ('truth', 'NN'),\n",
       " ('is', 'VBZ'),\n",
       " ('out', 'RP'),\n",
       " ('there', 'RB'),\n",
       " ('.', '.')]"
      ]
     },
     "execution_count": 8,
     "metadata": {},
     "output_type": "execute_result"
    }
   ],
   "source": [
    "x = word_tokenize(text)\n",
    "\n",
    "pos_tag(x)"
   ]
  },
  {
   "cell_type": "markdown",
   "metadata": {
    "id": "p8VBMU1GwTZz"
   },
   "source": [
    "> ### (4) Stop Words\n",
    "\n",
    "* Import Package and Download 'stopwords'"
   ]
  },
  {
   "cell_type": "code",
   "execution_count": 9,
   "metadata": {
    "colab": {
     "base_uri": "https://localhost:8080/"
    },
    "executionInfo": {
     "elapsed": 274,
     "status": "ok",
     "timestamp": 1633322437786,
     "user": {
      "displayName": "Joon Chun",
      "photoUrl": "https://lh3.googleusercontent.com/a/default-user=s64",
      "userId": "11589729376972489768"
     },
     "user_tz": -540
    },
    "id": "VbNN_2cLwZJB",
    "outputId": "7932974d-8d72-4a89-c93c-6afeaf67dc93"
   },
   "outputs": [
    {
     "name": "stdout",
     "output_type": "stream",
     "text": [
      "[nltk_data] Downloading package stopwords to /root/nltk_data...\n",
      "[nltk_data]   Unzipping corpora/stopwords.zip.\n"
     ]
    },
    {
     "data": {
      "text/plain": [
       "True"
      ]
     },
     "execution_count": 9,
     "metadata": {},
     "output_type": "execute_result"
    }
   ],
   "source": [
    "nltk.download('stopwords')"
   ]
  },
  {
   "cell_type": "markdown",
   "metadata": {
    "id": "FfnVbP93zyd2"
   },
   "source": [
    "* 'English' Stop Words"
   ]
  },
  {
   "cell_type": "code",
   "execution_count": 10,
   "metadata": {
    "colab": {
     "base_uri": "https://localhost:8080/"
    },
    "executionInfo": {
     "elapsed": 516,
     "status": "ok",
     "timestamp": 1633322450378,
     "user": {
      "displayName": "Joon Chun",
      "photoUrl": "https://lh3.googleusercontent.com/a/default-user=s64",
      "userId": "11589729376972489768"
     },
     "user_tz": -540
    },
    "id": "orHJ8CWKwcXm",
    "outputId": "2c5ed386-afda-4d77-a855-c8bcc007c2c7"
   },
   "outputs": [
    {
     "name": "stdout",
     "output_type": "stream",
     "text": [
      "English stop words : 179\n",
      "['i', 'me', 'my', 'myself', 'we', 'our', 'ours', 'ourselves', 'you', \"you're\", \"you've\", \"you'll\", \"you'd\", 'your', 'yours', 'yourself', 'yourselves', 'he', 'him', 'his']\n"
     ]
    }
   ],
   "source": [
    "print('English stop words :',len(nltk.corpus.stopwords.words('english')))\n",
    "print(nltk.corpus.stopwords.words('english')[:20])"
   ]
  },
  {
   "cell_type": "markdown",
   "metadata": {
    "id": "pQIfsKIPz57j"
   },
   "source": [
    "* tokenize_text( ) 정의\n",
    " - 여러개의 문장별로 단어 토큰 생성 함수 정의"
   ]
  },
  {
   "cell_type": "code",
   "execution_count": 11,
   "metadata": {
    "executionInfo": {
     "elapsed": 238,
     "status": "ok",
     "timestamp": 1633322468270,
     "user": {
      "displayName": "Joon Chun",
      "photoUrl": "https://lh3.googleusercontent.com/a/default-user=s64",
      "userId": "11589729376972489768"
     },
     "user_tz": -540
    },
    "id": "EYA4mJx_xFHf"
   },
   "outputs": [],
   "source": [
    "from nltk import word_tokenize, sent_tokenize\n",
    "\n",
    "def tokenize_text(doc):\n",
    "    sentences = sent_tokenize(doc)\n",
    "    word_tokens = [word_tokenize(sentence) for sentence in sentences]\n",
    "    return word_tokens"
   ]
  },
  {
   "cell_type": "markdown",
   "metadata": {
    "id": "4UKRicCO0U63"
   },
   "source": [
    "* 문장별 단어 토큰화 수행"
   ]
  },
  {
   "cell_type": "code",
   "execution_count": 12,
   "metadata": {
    "colab": {
     "base_uri": "https://localhost:8080/"
    },
    "executionInfo": {
     "elapsed": 241,
     "status": "ok",
     "timestamp": 1633322481871,
     "user": {
      "displayName": "Joon Chun",
      "photoUrl": "https://lh3.googleusercontent.com/a/default-user=s64",
      "userId": "11589729376972489768"
     },
     "user_tz": -540
    },
    "id": "964fOeOa0Rzx",
    "outputId": "decf4fcd-0c1b-4657-f7a4-91d144b85a05"
   },
   "outputs": [
    {
     "name": "stdout",
     "output_type": "stream",
     "text": [
      "<class 'list'> 3\n"
     ]
    }
   ],
   "source": [
    "word_tokens = tokenize_text(sentences)\n",
    "\n",
    "print(type(word_tokens),len(word_tokens))"
   ]
  },
  {
   "cell_type": "markdown",
   "metadata": {
    "id": "YbYBIBf20fBe"
   },
   "source": [
    "* 문장별 단어 토큰화 결과 확인"
   ]
  },
  {
   "cell_type": "code",
   "execution_count": 13,
   "metadata": {
    "colab": {
     "base_uri": "https://localhost:8080/"
    },
    "executionInfo": {
     "elapsed": 241,
     "status": "ok",
     "timestamp": 1633322487738,
     "user": {
      "displayName": "Joon Chun",
      "photoUrl": "https://lh3.googleusercontent.com/a/default-user=s64",
      "userId": "11589729376972489768"
     },
     "user_tz": -540
    },
    "id": "w7vfFzOKzWZd",
    "outputId": "70bfdf8a-0480-4876-e4ea-41f22caffdba"
   },
   "outputs": [
    {
     "name": "stdout",
     "output_type": "stream",
     "text": [
      "[['The', 'X-Files', 'is', 'an', 'American', 'science', 'fiction', 'drama', 'television', 'series', 'created', 'by', 'Chris', 'Carter', '.'], ['The', 'original', 'television', 'series', 'aired', 'from', 'September', '10', ',', '1993', 'to', 'May', '19', ',', '2002', 'on', 'Fox', '.'], ['The', 'program', 'spanned', 'nine', 'seasons', ',', 'with', '202', 'episodes', '.']]\n"
     ]
    }
   ],
   "source": [
    "print(word_tokens)"
   ]
  },
  {
   "cell_type": "markdown",
   "metadata": {
    "id": "fwQKZmKn0xVx"
   },
   "source": [
    "* Stop Words 제거"
   ]
  },
  {
   "cell_type": "code",
   "execution_count": 14,
   "metadata": {
    "executionInfo": {
     "elapsed": 454,
     "status": "ok",
     "timestamp": 1633322515022,
     "user": {
      "displayName": "Joon Chun",
      "photoUrl": "https://lh3.googleusercontent.com/a/default-user=s64",
      "userId": "11589729376972489768"
     },
     "user_tz": -540
    },
    "id": "AnVIc_GhxvqE"
   },
   "outputs": [],
   "source": [
    "stopwords = nltk.corpus.stopwords.words('english')\n",
    "all_tokens = []\n",
    "\n",
    "for sentence in word_tokens:\n",
    "    filtered_words = []\n",
    "\n",
    "    for word in sentence:\n",
    "        word = word.lower()\n",
    "        if word not in stopwords:\n",
    "            filtered_words.append(word)\n",
    "    all_tokens.append(filtered_words)"
   ]
  },
  {
   "cell_type": "markdown",
   "metadata": {
    "id": "Uf9rcBws1Vjt"
   },
   "source": [
    "* Stop Words 처리 결과"
   ]
  },
  {
   "cell_type": "code",
   "execution_count": 15,
   "metadata": {
    "colab": {
     "base_uri": "https://localhost:8080/"
    },
    "executionInfo": {
     "elapsed": 626,
     "status": "ok",
     "timestamp": 1633322519240,
     "user": {
      "displayName": "Joon Chun",
      "photoUrl": "https://lh3.googleusercontent.com/a/default-user=s64",
      "userId": "11589729376972489768"
     },
     "user_tz": -540
    },
    "id": "SXa_ACOI09Hc",
    "outputId": "11bc1c7b-44d2-4c93-8575-5f817d2d44a8"
   },
   "outputs": [
    {
     "name": "stdout",
     "output_type": "stream",
     "text": [
      "[['x-files', 'american', 'science', 'fiction', 'drama', 'television', 'series', 'created', 'chris', 'carter', '.'], ['original', 'television', 'series', 'aired', 'september', '10', ',', '1993', 'may', '19', ',', '2002', 'fox', '.'], ['program', 'spanned', 'nine', 'seasons', ',', '202', 'episodes', '.']]\n"
     ]
    }
   ],
   "source": [
    "print(all_tokens)"
   ]
  },
  {
   "cell_type": "markdown",
   "metadata": {
    "id": "kpC_pY631aPG"
   },
   "source": [
    "> ### (5) Stemming(어간 추출)\n",
    "\n",
    "* 변화된 단어의 원형으로 처리\n",
    " - work\n",
    " - amuse\n",
    " - happy\n",
    " - fancy"
   ]
  },
  {
   "cell_type": "code",
   "execution_count": 16,
   "metadata": {
    "colab": {
     "base_uri": "https://localhost:8080/"
    },
    "executionInfo": {
     "elapsed": 469,
     "status": "ok",
     "timestamp": 1633322543389,
     "user": {
      "displayName": "Joon Chun",
      "photoUrl": "https://lh3.googleusercontent.com/a/default-user=s64",
      "userId": "11589729376972489768"
     },
     "user_tz": -540
    },
    "id": "hK1KB0y21lo5",
    "outputId": "cfba6110-ca16-4ed2-b004-b5a2a0cbeb67"
   },
   "outputs": [
    {
     "name": "stdout",
     "output_type": "stream",
     "text": [
      "work work work\n",
      "amus amus amus\n",
      "happy happiest\n",
      "fant fanciest\n"
     ]
    }
   ],
   "source": [
    "from nltk.stem import LancasterStemmer\n",
    "\n",
    "stemmer = LancasterStemmer()\n",
    "\n",
    "print(stemmer.stem('working'),stemmer.stem('works'),stemmer.stem('worked'))\n",
    "print(stemmer.stem('amusing'),stemmer.stem('amuses'),stemmer.stem('amused'))\n",
    "print(stemmer.stem('happier'),stemmer.stem('happiest'))\n",
    "print(stemmer.stem('fancier'),stemmer.stem('fanciest'))"
   ]
  },
  {
   "cell_type": "markdown",
   "metadata": {
    "id": "mTUPYMA21t5G"
   },
   "source": [
    "> ### (6) Lemmatization(표제어 추출)\n",
    "\n",
    "* 변화된 단어의 원형을 처리\n",
    " - Stemming 보다 정확한 처리 가능\n",
    " - '품사'를 지정하여 사용"
   ]
  },
  {
   "cell_type": "code",
   "execution_count": 17,
   "metadata": {
    "colab": {
     "base_uri": "https://localhost:8080/"
    },
    "executionInfo": {
     "elapsed": 1011,
     "status": "ok",
     "timestamp": 1633322562457,
     "user": {
      "displayName": "Joon Chun",
      "photoUrl": "https://lh3.googleusercontent.com/a/default-user=s64",
      "userId": "11589729376972489768"
     },
     "user_tz": -540
    },
    "id": "j4emYOj_1yxT",
    "outputId": "27a98cac-8b31-4ef0-9530-fe06a62be059"
   },
   "outputs": [
    {
     "name": "stdout",
     "output_type": "stream",
     "text": [
      "[nltk_data] Downloading package wordnet to /root/nltk_data...\n",
      "[nltk_data]   Unzipping corpora/wordnet.zip.\n"
     ]
    },
    {
     "data": {
      "text/plain": [
       "True"
      ]
     },
     "execution_count": 17,
     "metadata": {},
     "output_type": "execute_result"
    }
   ],
   "source": [
    "nltk.download('wordnet')"
   ]
  },
  {
   "cell_type": "markdown",
   "metadata": {
    "id": "6N1cStbG3jul"
   },
   "source": [
    "* 'v' 동사, 'a' 형용사"
   ]
  },
  {
   "cell_type": "code",
   "execution_count": 18,
   "metadata": {
    "colab": {
     "base_uri": "https://localhost:8080/"
    },
    "executionInfo": {
     "elapsed": 2091,
     "status": "ok",
     "timestamp": 1633322566765,
     "user": {
      "displayName": "Joon Chun",
      "photoUrl": "https://lh3.googleusercontent.com/a/default-user=s64",
      "userId": "11589729376972489768"
     },
     "user_tz": -540
    },
    "id": "0CBmXLfC3Fh9",
    "outputId": "6bd001dd-bbea-4213-be08-f49e02b62fee"
   },
   "outputs": [
    {
     "name": "stdout",
     "output_type": "stream",
     "text": [
      "amuse amuse amuse\n",
      "happy happy\n",
      "fancy fancy\n"
     ]
    }
   ],
   "source": [
    "from nltk.stem import WordNetLemmatizer\n",
    "\n",
    "lemma = WordNetLemmatizer()\n",
    "\n",
    "print(lemma.lemmatize('amusing', 'v'), lemma.lemmatize('amuses', 'v'), \\\n",
    "      lemma.lemmatize('amused', 'v'))\n",
    "print(lemma.lemmatize('happier', 'a'), lemma.lemmatize('happiest', 'a'))\n",
    "print(lemma.lemmatize('fancier', 'a'), lemma.lemmatize('fanciest', 'a'))"
   ]
  },
  {
   "cell_type": "markdown",
   "metadata": {
    "id": "-ACEmS8vEMmA"
   },
   "source": [
    "> ## 2) 한국어 : KoNLPy"
   ]
  },
  {
   "cell_type": "markdown",
   "metadata": {
    "id": "uwY2Mf31ETrB"
   },
   "source": [
    "> ### (1) KoNLPy 패키지 설치"
   ]
  },
  {
   "cell_type": "code",
   "execution_count": 19,
   "metadata": {
    "colab": {
     "base_uri": "https://localhost:8080/"
    },
    "executionInfo": {
     "elapsed": 6352,
     "status": "ok",
     "timestamp": 1633322578745,
     "user": {
      "displayName": "Joon Chun",
      "photoUrl": "https://lh3.googleusercontent.com/a/default-user=s64",
      "userId": "11589729376972489768"
     },
     "user_tz": -540
    },
    "id": "LCTvfuOlCdze",
    "outputId": "e58f2f15-601d-48ad-d051-daf8622a8dd7"
   },
   "outputs": [
    {
     "name": "stdout",
     "output_type": "stream",
     "text": [
      "Collecting konlpy\n",
      "  Downloading konlpy-0.5.2-py2.py3-none-any.whl (19.4 MB)\n",
      "\u001b[K     |████████████████████████████████| 19.4 MB 1.3 MB/s \n",
      "\u001b[?25hRequirement already satisfied: lxml>=4.1.0 in /usr/local/lib/python3.7/dist-packages (from konlpy) (4.2.6)\n",
      "Collecting colorama\n",
      "  Downloading colorama-0.4.4-py2.py3-none-any.whl (16 kB)\n",
      "Requirement already satisfied: tweepy>=3.7.0 in /usr/local/lib/python3.7/dist-packages (from konlpy) (3.10.0)\n",
      "Requirement already satisfied: numpy>=1.6 in /usr/local/lib/python3.7/dist-packages (from konlpy) (1.19.5)\n",
      "Collecting beautifulsoup4==4.6.0\n",
      "  Downloading beautifulsoup4-4.6.0-py3-none-any.whl (86 kB)\n",
      "\u001b[K     |████████████████████████████████| 86 kB 5.9 MB/s \n",
      "\u001b[?25hCollecting JPype1>=0.7.0\n",
      "  Downloading JPype1-1.3.0-cp37-cp37m-manylinux_2_5_x86_64.manylinux1_x86_64.whl (448 kB)\n",
      "\u001b[K     |████████████████████████████████| 448 kB 61.3 MB/s \n",
      "\u001b[?25hRequirement already satisfied: typing-extensions in /usr/local/lib/python3.7/dist-packages (from JPype1>=0.7.0->konlpy) (3.7.4.3)\n",
      "Requirement already satisfied: requests[socks]>=2.11.1 in /usr/local/lib/python3.7/dist-packages (from tweepy>=3.7.0->konlpy) (2.23.0)\n",
      "Requirement already satisfied: requests-oauthlib>=0.7.0 in /usr/local/lib/python3.7/dist-packages (from tweepy>=3.7.0->konlpy) (1.3.0)\n",
      "Requirement already satisfied: six>=1.10.0 in /usr/local/lib/python3.7/dist-packages (from tweepy>=3.7.0->konlpy) (1.15.0)\n",
      "Requirement already satisfied: oauthlib>=3.0.0 in /usr/local/lib/python3.7/dist-packages (from requests-oauthlib>=0.7.0->tweepy>=3.7.0->konlpy) (3.1.1)\n",
      "Requirement already satisfied: idna<3,>=2.5 in /usr/local/lib/python3.7/dist-packages (from requests[socks]>=2.11.1->tweepy>=3.7.0->konlpy) (2.10)\n",
      "Requirement already satisfied: urllib3!=1.25.0,!=1.25.1,<1.26,>=1.21.1 in /usr/local/lib/python3.7/dist-packages (from requests[socks]>=2.11.1->tweepy>=3.7.0->konlpy) (1.24.3)\n",
      "Requirement already satisfied: chardet<4,>=3.0.2 in /usr/local/lib/python3.7/dist-packages (from requests[socks]>=2.11.1->tweepy>=3.7.0->konlpy) (3.0.4)\n",
      "Requirement already satisfied: certifi>=2017.4.17 in /usr/local/lib/python3.7/dist-packages (from requests[socks]>=2.11.1->tweepy>=3.7.0->konlpy) (2021.5.30)\n",
      "Requirement already satisfied: PySocks!=1.5.7,>=1.5.6 in /usr/local/lib/python3.7/dist-packages (from requests[socks]>=2.11.1->tweepy>=3.7.0->konlpy) (1.7.1)\n",
      "Installing collected packages: JPype1, colorama, beautifulsoup4, konlpy\n",
      "  Attempting uninstall: beautifulsoup4\n",
      "    Found existing installation: beautifulsoup4 4.6.3\n",
      "    Uninstalling beautifulsoup4-4.6.3:\n",
      "      Successfully uninstalled beautifulsoup4-4.6.3\n",
      "Successfully installed JPype1-1.3.0 beautifulsoup4-4.6.0 colorama-0.4.4 konlpy-0.5.2\n"
     ]
    }
   ],
   "source": [
    "!pip install konlpy"
   ]
  },
  {
   "cell_type": "markdown",
   "metadata": {
    "id": "_BMkvJxjEYb5"
   },
   "source": [
    "> ### (2) Okt 형태소 분석기(Open Korea Text, Twitter)\n",
    "\n",
    "* 형태소(Morpheme)"
   ]
  },
  {
   "cell_type": "code",
   "execution_count": 20,
   "metadata": {
    "executionInfo": {
     "elapsed": 1564,
     "status": "ok",
     "timestamp": 1633322593924,
     "user": {
      "displayName": "Joon Chun",
      "photoUrl": "https://lh3.googleusercontent.com/a/default-user=s64",
      "userId": "11589729376972489768"
     },
     "user_tz": -540
    },
    "id": "H33ddPMFCWjS"
   },
   "outputs": [],
   "source": [
    "from konlpy.tag import Okt"
   ]
  },
  {
   "cell_type": "markdown",
   "metadata": {
    "id": "mx0j3jE0FKLX"
   },
   "source": [
    "* 토큰화 : okt.morphs( )"
   ]
  },
  {
   "cell_type": "code",
   "execution_count": 21,
   "metadata": {
    "colab": {
     "base_uri": "https://localhost:8080/"
    },
    "executionInfo": {
     "elapsed": 8670,
     "status": "ok",
     "timestamp": 1633322605533,
     "user": {
      "displayName": "Joon Chun",
      "photoUrl": "https://lh3.googleusercontent.com/a/default-user=s64",
      "userId": "11589729376972489768"
     },
     "user_tz": -540
    },
    "id": "L5A_yZxTCcYC",
    "outputId": "c2217fed-c157-410a-fc56-93c1a50accbe"
   },
   "outputs": [
    {
     "name": "stdout",
     "output_type": "stream",
     "text": [
      "['지난', '몇', '달', '간', '전', '세계', '모든', '사람', '은', '코로나', '19', '로', '인해', '전례', '없는', '고통', '을', '겪으며', '다양한', '방식', '으로', '심각하게', '피해', '를', '겪었습니다', '.']\n"
     ]
    }
   ],
   "source": [
    "okt = Okt()\n",
    "\n",
    "print(okt.morphs('지난 몇 달간 전 세계 모든 사람은 코로나19로 인해 \\\n",
    "전례 없는 고통을 겪으며 다양한 방식으로 심각하게 피해를 겪었습니다.'))"
   ]
  },
  {
   "cell_type": "markdown",
   "metadata": {
    "id": "Cgwn4Pk5FN76"
   },
   "source": [
    "* 품사 태깅 : okt.pos( )"
   ]
  },
  {
   "cell_type": "code",
   "execution_count": 22,
   "metadata": {
    "colab": {
     "base_uri": "https://localhost:8080/"
    },
    "executionInfo": {
     "elapsed": 245,
     "status": "ok",
     "timestamp": 1633322612275,
     "user": {
      "displayName": "Joon Chun",
      "photoUrl": "https://lh3.googleusercontent.com/a/default-user=s64",
      "userId": "11589729376972489768"
     },
     "user_tz": -540
    },
    "id": "vpR6zpEMCp-c",
    "outputId": "652944cd-1b7a-45d4-8c8c-5113b0883249"
   },
   "outputs": [
    {
     "name": "stdout",
     "output_type": "stream",
     "text": [
      "[('지난', 'Noun'), ('몇', 'Noun'), ('달', 'Noun'), ('간', 'Suffix'), ('전', 'Noun'), ('세계', 'Noun'), ('모든', 'Noun'), ('사람', 'Noun'), ('은', 'Josa'), ('코로나', 'Noun'), ('19', 'Number'), ('로', 'Noun'), ('인해', 'Adjective'), ('전례', 'Noun'), ('없는', 'Adjective'), ('고통', 'Noun'), ('을', 'Josa'), ('겪으며', 'Verb'), ('다양한', 'Adjective'), ('방식', 'Noun'), ('으로', 'Josa'), ('심각하게', 'Adjective'), ('피해', 'Noun'), ('를', 'Josa'), ('겪었습니다', 'Verb'), ('.', 'Punctuation')]\n"
     ]
    }
   ],
   "source": [
    "print(okt.pos('지난 몇 달간 전 세계 모든 사람은 코로나19로 인해 \\\n",
    "전례 없는 고통을 겪으며 다양한 방식으로 심각하게 피해를 겪었습니다.'))"
   ]
  },
  {
   "cell_type": "markdown",
   "metadata": {
    "id": "d4Y4CYCYFjL5"
   },
   "source": [
    "* 명사 추출 : okt.nouns( )"
   ]
  },
  {
   "cell_type": "code",
   "execution_count": 23,
   "metadata": {
    "colab": {
     "base_uri": "https://localhost:8080/"
    },
    "executionInfo": {
     "elapsed": 825,
     "status": "ok",
     "timestamp": 1633322618754,
     "user": {
      "displayName": "Joon Chun",
      "photoUrl": "https://lh3.googleusercontent.com/a/default-user=s64",
      "userId": "11589729376972489768"
     },
     "user_tz": -540
    },
    "id": "rqd_VBtbCri0",
    "outputId": "5b7273cb-4777-44ea-9a7c-c7083da85a29"
   },
   "outputs": [
    {
     "name": "stdout",
     "output_type": "stream",
     "text": [
      "['지난', '몇', '달', '전', '세계', '모든', '사람', '코로나', '로', '전례', '고통', '방식', '피해']\n"
     ]
    }
   ],
   "source": [
    "print(okt.nouns('지난 몇 달간 전 세계 모든 사람은 코로나19로 인해 \\\n",
    "전례 없는 고통을 겪으며 다양한 방식으로 심각하게 피해를 겪었습니다.'))"
   ]
  },
  {
   "cell_type": "markdown",
   "metadata": {
    "id": "RxJAG2fSE7ua"
   },
   "source": [
    "> ### (3) Kkma 형태소 분석기\n",
    "\n",
    "* 형태소(Morpheme)"
   ]
  },
  {
   "cell_type": "code",
   "execution_count": 24,
   "metadata": {
    "executionInfo": {
     "elapsed": 309,
     "status": "ok",
     "timestamp": 1633322624230,
     "user": {
      "displayName": "Joon Chun",
      "photoUrl": "https://lh3.googleusercontent.com/a/default-user=s64",
      "userId": "11589729376972489768"
     },
     "user_tz": -540
    },
    "id": "Pkj_276WCxDQ"
   },
   "outputs": [],
   "source": [
    "from konlpy.tag import Kkma"
   ]
  },
  {
   "cell_type": "markdown",
   "metadata": {
    "id": "nIVbvbClFtUD"
   },
   "source": [
    "* 토큰화 : kkma.morphs( )"
   ]
  },
  {
   "cell_type": "code",
   "execution_count": 25,
   "metadata": {
    "colab": {
     "base_uri": "https://localhost:8080/"
    },
    "executionInfo": {
     "elapsed": 13669,
     "status": "ok",
     "timestamp": 1633322640565,
     "user": {
      "displayName": "Joon Chun",
      "photoUrl": "https://lh3.googleusercontent.com/a/default-user=s64",
      "userId": "11589729376972489768"
     },
     "user_tz": -540
    },
    "id": "slbdMEw_FvV1",
    "outputId": "70f6d4c5-66c6-4dda-9885-8c0576332417"
   },
   "outputs": [
    {
     "name": "stdout",
     "output_type": "stream",
     "text": [
      "['지나', 'ㄴ', '몇', '달', '간', '전', '세계', '모든', '사람', '은', '코로나', '19', '로', '인하', '어', '전례', '없', '는', '고통', '을', '겪', '으며', '다양', '하', 'ㄴ', '방식', '으로', '심각', '하', '게', '피해', '를', '겪', '었', '습니다', '.']\n"
     ]
    }
   ],
   "source": [
    "kkma = Kkma()  \n",
    "\n",
    "print(kkma.morphs('지난 몇 달간 전 세계 모든 사람은 코로나19로 인해 \\\n",
    "전례 없는 고통을 겪으며 다양한 방식으로 심각하게 피해를 겪었습니다.'))"
   ]
  },
  {
   "cell_type": "markdown",
   "metadata": {
    "id": "4VuXMtjEGA6r"
   },
   "source": [
    "* 품사 태깅 : kkma.pos( )"
   ]
  },
  {
   "cell_type": "code",
   "execution_count": 26,
   "metadata": {
    "colab": {
     "base_uri": "https://localhost:8080/"
    },
    "executionInfo": {
     "elapsed": 445,
     "status": "ok",
     "timestamp": 1633322645148,
     "user": {
      "displayName": "Joon Chun",
      "photoUrl": "https://lh3.googleusercontent.com/a/default-user=s64",
      "userId": "11589729376972489768"
     },
     "user_tz": -540
    },
    "id": "o__YXyPTCzBb",
    "outputId": "73dda29c-46f0-4d6e-96a0-217bcf8b5c84"
   },
   "outputs": [
    {
     "name": "stdout",
     "output_type": "stream",
     "text": [
      "[('지나', 'VV'), ('ㄴ', 'ETD'), ('몇', 'MDT'), ('달', 'NNG'), ('간', 'NNB'), ('전', 'NNG'), ('세계', 'NNG'), ('모든', 'MDT'), ('사람', 'NNG'), ('은', 'JX'), ('코로나', 'NNG'), ('19', 'NR'), ('로', 'JKM'), ('인하', 'VV'), ('어', 'ECS'), ('전례', 'NNG'), ('없', 'VA'), ('는', 'ETD'), ('고통', 'NNG'), ('을', 'JKO'), ('겪', 'VV'), ('으며', 'ECE'), ('다양', 'NNG'), ('하', 'XSV'), ('ㄴ', 'ETD'), ('방식', 'NNG'), ('으로', 'JKM'), ('심각', 'XR'), ('하', 'XSA'), ('게', 'ECD'), ('피해', 'NNG'), ('를', 'JKO'), ('겪', 'VV'), ('었', 'EPT'), ('습니다', 'EFN'), ('.', 'SF')]\n"
     ]
    }
   ],
   "source": [
    "print(kkma.pos('지난 몇 달간 전 세계 모든 사람은 코로나19로 인해 \\\n",
    "전례 없는 고통을 겪으며 다양한 방식으로 심각하게 피해를 겪었습니다.'))"
   ]
  },
  {
   "cell_type": "markdown",
   "metadata": {
    "id": "TolIm0ZjGFXE"
   },
   "source": [
    "* 명사 추출 : kkma.nouns( )"
   ]
  },
  {
   "cell_type": "code",
   "execution_count": 27,
   "metadata": {
    "colab": {
     "base_uri": "https://localhost:8080/"
    },
    "executionInfo": {
     "elapsed": 245,
     "status": "ok",
     "timestamp": 1633322648950,
     "user": {
      "displayName": "Joon Chun",
      "photoUrl": "https://lh3.googleusercontent.com/a/default-user=s64",
      "userId": "11589729376972489768"
     },
     "user_tz": -540
    },
    "id": "sYTaUE7DC2bb",
    "outputId": "fdb8b475-676a-42ba-d5b2-3e02424a71ed"
   },
   "outputs": [
    {
     "name": "stdout",
     "output_type": "stream",
     "text": [
      "['달', '달간', '간', '전', '세계', '사람', '코로나', '코로나19', '19', '전례', '고통', '다양', '방식', '피해']\n"
     ]
    }
   ],
   "source": [
    "print(kkma.nouns('지난 몇 달간 전 세계 모든 사람은 코로나19로 인해 \\\n",
    "전례 없는 고통을 겪으며 다양한 방식으로 심각하게 피해를 겪었습니다.'))"
   ]
  },
  {
   "cell_type": "markdown",
   "metadata": {
    "id": "o4Br06_7LLIv"
   },
   "source": [
    "# II. Encoding"
   ]
  },
  {
   "cell_type": "markdown",
   "metadata": {
    "id": "EBO0Jsk1LPKl"
   },
   "source": [
    "> ## 1) Encoding with Keras"
   ]
  },
  {
   "cell_type": "markdown",
   "metadata": {
    "id": "10-0Yzx1LayX"
   },
   "source": [
    "> ### (1) Import Package"
   ]
  },
  {
   "cell_type": "code",
   "execution_count": 28,
   "metadata": {
    "executionInfo": {
     "elapsed": 7142,
     "status": "ok",
     "timestamp": 1633322661979,
     "user": {
      "displayName": "Joon Chun",
      "photoUrl": "https://lh3.googleusercontent.com/a/default-user=s64",
      "userId": "11589729376972489768"
     },
     "user_tz": -540
    },
    "id": "bgw2BcXHKCjv"
   },
   "outputs": [],
   "source": [
    "from tensorflow.keras.preprocessing.text import Tokenizer\n",
    "from tensorflow.keras.utils import to_categorical"
   ]
  },
  {
   "cell_type": "markdown",
   "metadata": {
    "id": "Z9gFk2zqLlIp"
   },
   "source": [
    "> ### (2) 실습 문장"
   ]
  },
  {
   "cell_type": "code",
   "execution_count": 29,
   "metadata": {
    "executionInfo": {
     "elapsed": 290,
     "status": "ok",
     "timestamp": 1633322664910,
     "user": {
      "displayName": "Joon Chun",
      "photoUrl": "https://lh3.googleusercontent.com/a/default-user=s64",
      "userId": "11589729376972489768"
     },
     "user_tz": -540
    },
    "id": "Ml7ZtnR5Ke4_"
   },
   "outputs": [],
   "source": [
    "sentence = '가지마라 가지마라 그녀는 위험해 매력이 너무 넘치는 Girl \\\n",
    "하지마라 하지마라 사랑은 위험해 \\\n",
    "내가 내가 내가 먼저 네게 네게 네게 빠져 빠져 빠져 버려 baby'"
   ]
  },
  {
   "cell_type": "markdown",
   "metadata": {
    "id": "iPe_IJ4VLoin"
   },
   "source": [
    "> ## 2) 정수 인코딩(Integer Encoding)"
   ]
  },
  {
   "cell_type": "markdown",
   "metadata": {
    "id": "ck2RxCHdL9Xc"
   },
   "source": [
    "> ### (1) Tokenizer.fit_on_texts( )\n",
    "\n",
    "* Tokenization & Integer Indexing"
   ]
  },
  {
   "cell_type": "code",
   "execution_count": 30,
   "metadata": {
    "executionInfo": {
     "elapsed": 437,
     "status": "ok",
     "timestamp": 1633322674361,
     "user": {
      "displayName": "Joon Chun",
      "photoUrl": "https://lh3.googleusercontent.com/a/default-user=s64",
      "userId": "11589729376972489768"
     },
     "user_tz": -540
    },
    "id": "XdvsdKLzKj9_"
   },
   "outputs": [],
   "source": [
    "from keras.preprocessing.text import Tokenizer\n",
    "\n",
    "tknz = Tokenizer()\n",
    "tknz.fit_on_texts([sentence])"
   ]
  },
  {
   "cell_type": "code",
   "execution_count": 31,
   "metadata": {
    "colab": {
     "base_uri": "https://localhost:8080/"
    },
    "executionInfo": {
     "elapsed": 286,
     "status": "ok",
     "timestamp": 1633322676925,
     "user": {
      "displayName": "Joon Chun",
      "photoUrl": "https://lh3.googleusercontent.com/a/default-user=s64",
      "userId": "11589729376972489768"
     },
     "user_tz": -540
    },
    "id": "re3hcM1pva9D",
    "outputId": "f92c8a1e-24f2-450d-fc7d-71e22d402476"
   },
   "outputs": [
    {
     "name": "stdout",
     "output_type": "stream",
     "text": [
      "{'내가': 1, '네게': 2, '빠져': 3, '가지마라': 4, '위험해': 5, '하지마라': 6, '그녀는': 7, '매력이': 8, '너무': 9, '넘치는': 10, 'girl': 11, '사랑은': 12, '먼저': 13, '버려': 14, 'baby': 15}\n"
     ]
    }
   ],
   "source": [
    "print(tknz.word_index)"
   ]
  },
  {
   "cell_type": "markdown",
   "metadata": {
    "id": "_foET2ciMJbW"
   },
   "source": [
    "> ### (2) Tokenizer.texts_to_sequences( )\n",
    "\n",
    "* Integer Encoding"
   ]
  },
  {
   "cell_type": "code",
   "execution_count": 32,
   "metadata": {
    "executionInfo": {
     "elapsed": 249,
     "status": "ok",
     "timestamp": 1633322682903,
     "user": {
      "displayName": "Joon Chun",
      "photoUrl": "https://lh3.googleusercontent.com/a/default-user=s64",
      "userId": "11589729376972489768"
     },
     "user_tz": -540
    },
    "id": "_ZbWP8G9KovQ"
   },
   "outputs": [],
   "source": [
    "LBE = tknz.texts_to_sequences([sentence])"
   ]
  },
  {
   "cell_type": "code",
   "execution_count": 33,
   "metadata": {
    "colab": {
     "base_uri": "https://localhost:8080/"
    },
    "executionInfo": {
     "elapsed": 450,
     "status": "ok",
     "timestamp": 1633322691276,
     "user": {
      "displayName": "Joon Chun",
      "photoUrl": "https://lh3.googleusercontent.com/a/default-user=s64",
      "userId": "11589729376972489768"
     },
     "user_tz": -540
    },
    "id": "1AeATrVDvnga",
    "outputId": "565c5c13-426a-4334-d5ce-378b63ee00c8"
   },
   "outputs": [
    {
     "name": "stdout",
     "output_type": "stream",
     "text": [
      "[[4, 4, 7, 5, 8, 9, 10, 11, 6, 6, 12, 5, 1, 1, 1, 13, 2, 2, 2, 3, 3, 3, 14, 15]]\n"
     ]
    }
   ],
   "source": [
    "print(LBE)"
   ]
  },
  {
   "cell_type": "markdown",
   "metadata": {
    "id": "gsdDOxqDLupv"
   },
   "source": [
    "> ## 3) 원-핫 인코딩(One-Hot Encoding)"
   ]
  },
  {
   "cell_type": "markdown",
   "metadata": {
    "id": "f-FQ-mZhL2wV"
   },
   "source": [
    "> ### (1) to_categorical( )\n",
    "\n",
    "* One-Hot Encoding"
   ]
  },
  {
   "cell_type": "code",
   "execution_count": 34,
   "metadata": {
    "executionInfo": {
     "elapsed": 432,
     "status": "ok",
     "timestamp": 1633322698804,
     "user": {
      "displayName": "Joon Chun",
      "photoUrl": "https://lh3.googleusercontent.com/a/default-user=s64",
      "userId": "11589729376972489768"
     },
     "user_tz": -540
    },
    "id": "tGQqaQxiLBQr"
   },
   "outputs": [],
   "source": [
    "from tensorflow.keras.utils import to_categorical\n",
    "\n",
    "OHE = to_categorical(LBE)"
   ]
  },
  {
   "cell_type": "code",
   "execution_count": 35,
   "metadata": {
    "colab": {
     "base_uri": "https://localhost:8080/"
    },
    "executionInfo": {
     "elapsed": 530,
     "status": "ok",
     "timestamp": 1633322712188,
     "user": {
      "displayName": "Joon Chun",
      "photoUrl": "https://lh3.googleusercontent.com/a/default-user=s64",
      "userId": "11589729376972489768"
     },
     "user_tz": -540
    },
    "id": "R3DzE25Rvufj",
    "outputId": "5f7688ba-dcb7-4619-9329-0ca159306642"
   },
   "outputs": [
    {
     "name": "stdout",
     "output_type": "stream",
     "text": [
      "[[[0. 0. 0. 0. 1. 0. 0. 0. 0. 0. 0. 0. 0. 0. 0. 0.]\n",
      "  [0. 0. 0. 0. 1. 0. 0. 0. 0. 0. 0. 0. 0. 0. 0. 0.]\n",
      "  [0. 0. 0. 0. 0. 0. 0. 1. 0. 0. 0. 0. 0. 0. 0. 0.]\n",
      "  [0. 0. 0. 0. 0. 1. 0. 0. 0. 0. 0. 0. 0. 0. 0. 0.]\n",
      "  [0. 0. 0. 0. 0. 0. 0. 0. 1. 0. 0. 0. 0. 0. 0. 0.]\n",
      "  [0. 0. 0. 0. 0. 0. 0. 0. 0. 1. 0. 0. 0. 0. 0. 0.]\n",
      "  [0. 0. 0. 0. 0. 0. 0. 0. 0. 0. 1. 0. 0. 0. 0. 0.]\n",
      "  [0. 0. 0. 0. 0. 0. 0. 0. 0. 0. 0. 1. 0. 0. 0. 0.]\n",
      "  [0. 0. 0. 0. 0. 0. 1. 0. 0. 0. 0. 0. 0. 0. 0. 0.]\n",
      "  [0. 0. 0. 0. 0. 0. 1. 0. 0. 0. 0. 0. 0. 0. 0. 0.]\n",
      "  [0. 0. 0. 0. 0. 0. 0. 0. 0. 0. 0. 0. 1. 0. 0. 0.]\n",
      "  [0. 0. 0. 0. 0. 1. 0. 0. 0. 0. 0. 0. 0. 0. 0. 0.]\n",
      "  [0. 1. 0. 0. 0. 0. 0. 0. 0. 0. 0. 0. 0. 0. 0. 0.]\n",
      "  [0. 1. 0. 0. 0. 0. 0. 0. 0. 0. 0. 0. 0. 0. 0. 0.]\n",
      "  [0. 1. 0. 0. 0. 0. 0. 0. 0. 0. 0. 0. 0. 0. 0. 0.]\n",
      "  [0. 0. 0. 0. 0. 0. 0. 0. 0. 0. 0. 0. 0. 1. 0. 0.]\n",
      "  [0. 0. 1. 0. 0. 0. 0. 0. 0. 0. 0. 0. 0. 0. 0. 0.]\n",
      "  [0. 0. 1. 0. 0. 0. 0. 0. 0. 0. 0. 0. 0. 0. 0. 0.]\n",
      "  [0. 0. 1. 0. 0. 0. 0. 0. 0. 0. 0. 0. 0. 0. 0. 0.]\n",
      "  [0. 0. 0. 1. 0. 0. 0. 0. 0. 0. 0. 0. 0. 0. 0. 0.]\n",
      "  [0. 0. 0. 1. 0. 0. 0. 0. 0. 0. 0. 0. 0. 0. 0. 0.]\n",
      "  [0. 0. 0. 1. 0. 0. 0. 0. 0. 0. 0. 0. 0. 0. 0. 0.]\n",
      "  [0. 0. 0. 0. 0. 0. 0. 0. 0. 0. 0. 0. 0. 0. 1. 0.]\n",
      "  [0. 0. 0. 0. 0. 0. 0. 0. 0. 0. 0. 0. 0. 0. 0. 1.]]]\n"
     ]
    }
   ],
   "source": [
    "print(OHE)"
   ]
  },
  {
   "cell_type": "markdown",
   "metadata": {
    "id": "mO4ANdxgGJ10"
   },
   "source": [
    "# \n",
    "# \n",
    "# \n",
    "# The End\n",
    "# \n",
    "# \n",
    "# "
   ]
  }
 ],
 "metadata": {
  "colab": {
   "collapsed_sections": [],
   "name": "001_NLP_Preprocessing_CPU.ipynb",
   "provenance": []
  },
  "kernelspec": {
   "display_name": "Python 3 (ipykernel)",
   "language": "python",
   "name": "python3"
  },
  "language_info": {
   "codemirror_mode": {
    "name": "ipython",
    "version": 3
   },
   "file_extension": ".py",
   "mimetype": "text/x-python",
   "name": "python",
   "nbconvert_exporter": "python",
   "pygments_lexer": "ipython3",
   "version": "3.9.7"
  },
  "toc": {
   "base_numbering": 1,
   "nav_menu": {},
   "number_sections": true,
   "sideBar": true,
   "skip_h1_title": false,
   "title_cell": "Table of Contents",
   "title_sidebar": "Contents",
   "toc_cell": false,
   "toc_position": {},
   "toc_section_display": true,
   "toc_window_display": false
  }
 },
 "nbformat": 4,
 "nbformat_minor": 1
}
