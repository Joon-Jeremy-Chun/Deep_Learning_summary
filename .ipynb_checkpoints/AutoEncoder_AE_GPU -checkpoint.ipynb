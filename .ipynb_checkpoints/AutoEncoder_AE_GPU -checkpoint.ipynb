{
 "cells": [
  {
   "cell_type": "markdown",
   "metadata": {},
   "source": [
    "+ 다음작업은 Mulitcampus - Data Science 과정에서 가져왔습니다.\n",
    "+ The following code works are from the Data Science lecture at Multicampus."
   ]
  },
  {
   "cell_type": "markdown",
   "metadata": {
    "id": "_FBddBpMHE1L"
   },
   "source": [
    "# AutoEncoder(AE)\n",
    "\n",
    "* 입력데이터의 차원축소를 통해 의미있는 잠재 공간(Latent Space/Manifold)을 학습\n",
    " - Encoder 학습을 위해 Decoder를 사용"
   ]
  },
  {
   "cell_type": "code",
   "execution_count": 1,
   "metadata": {
    "executionInfo": {
     "elapsed": 3,
     "status": "ok",
     "timestamp": 1633314051055,
     "user": {
      "displayName": "Joon Chun",
      "photoUrl": "https://lh3.googleusercontent.com/a/default-user=s64",
      "userId": "11589729376972489768"
     },
     "user_tz": -540
    },
    "id": "RbPgODpVzdHI"
   },
   "outputs": [],
   "source": [
    "import warnings\n",
    "warnings.filterwarnings('ignore')"
   ]
  },
  {
   "cell_type": "markdown",
   "metadata": {
    "id": "4WeHD_uOUbdK"
   },
   "source": [
    "# I. Load MNIST Dataset"
   ]
  },
  {
   "cell_type": "markdown",
   "metadata": {
    "id": "2gFPNAltcHDt"
   },
   "source": [
    "> ## 1) X_train and X_test"
   ]
  },
  {
   "cell_type": "code",
   "execution_count": 2,
   "metadata": {
    "colab": {
     "base_uri": "https://localhost:8080/"
    },
    "executionInfo": {
     "elapsed": 3393,
     "status": "ok",
     "timestamp": 1633314057418,
     "user": {
      "displayName": "Joon Chun",
      "photoUrl": "https://lh3.googleusercontent.com/a/default-user=s64",
      "userId": "11589729376972489768"
     },
     "user_tz": -540
    },
    "id": "ej1XW5LbDMXs",
    "outputId": "34aa03bf-ccf9-4887-ad3d-6cef7073aeea"
   },
   "outputs": [
    {
     "name": "stdout",
     "output_type": "stream",
     "text": [
      "Downloading data from https://storage.googleapis.com/tensorflow/tf-keras-datasets/mnist.npz\n",
      "11493376/11490434 [==============================] - 0s 0us/step\n",
      "11501568/11490434 [==============================] - 0s 0us/step\n"
     ]
    }
   ],
   "source": [
    "from tensorflow.keras.datasets import mnist\n",
    "\n",
    "(X_train, _), (X_test, _) = mnist.load_data()"
   ]
  },
  {
   "cell_type": "code",
   "execution_count": 3,
   "metadata": {
    "colab": {
     "base_uri": "https://localhost:8080/"
    },
    "executionInfo": {
     "elapsed": 560,
     "status": "ok",
     "timestamp": 1633314063788,
     "user": {
      "displayName": "Joon Chun",
      "photoUrl": "https://lh3.googleusercontent.com/a/default-user=s64",
      "userId": "11589729376972489768"
     },
     "user_tz": -540
    },
    "id": "UHXEXK-oVXUS",
    "outputId": "e2735554-435a-4506-d181-1111b6d8552d"
   },
   "outputs": [
    {
     "data": {
      "text/plain": [
       "((60000, 28, 28), (10000, 28, 28))"
      ]
     },
     "execution_count": 3,
     "metadata": {},
     "output_type": "execute_result"
    }
   ],
   "source": [
    "X_train.shape, X_test.shape"
   ]
  },
  {
   "cell_type": "markdown",
   "metadata": {
    "id": "5lcY8n5GVMqb"
   },
   "source": [
    "> ## 2) Normalization and Reshape"
   ]
  },
  {
   "cell_type": "code",
   "execution_count": 4,
   "metadata": {
    "executionInfo": {
     "elapsed": 526,
     "status": "ok",
     "timestamp": 1633314067139,
     "user": {
      "displayName": "Joon Chun",
      "photoUrl": "https://lh3.googleusercontent.com/a/default-user=s64",
      "userId": "11589729376972489768"
     },
     "user_tz": -540
    },
    "id": "XShJmZ29DN8N"
   },
   "outputs": [],
   "source": [
    "X_train = X_train / 255.\n",
    "X_test = X_test / 255.\n",
    "\n",
    "X_train = X_train.reshape(60000, 28 * 28)\n",
    "X_test = X_test.reshape(10000, 28 * 28)"
   ]
  },
  {
   "cell_type": "code",
   "execution_count": 5,
   "metadata": {
    "colab": {
     "base_uri": "https://localhost:8080/"
    },
    "executionInfo": {
     "elapsed": 361,
     "status": "ok",
     "timestamp": 1633314072655,
     "user": {
      "displayName": "Joon Chun",
      "photoUrl": "https://lh3.googleusercontent.com/a/default-user=s64",
      "userId": "11589729376972489768"
     },
     "user_tz": -540
    },
    "id": "6Z5_FWAiWR3u",
    "outputId": "ecd56de0-61b5-4374-dd90-733558dd4635"
   },
   "outputs": [
    {
     "data": {
      "text/plain": [
       "((60000, 784), (10000, 784))"
      ]
     },
     "execution_count": 5,
     "metadata": {},
     "output_type": "execute_result"
    }
   ],
   "source": [
    "X_train.shape, X_test.shape"
   ]
  },
  {
   "cell_type": "markdown",
   "metadata": {
    "id": "vvB4efbrUndK"
   },
   "source": [
    "# II. Keras Modeling with Functional API"
   ]
  },
  {
   "cell_type": "markdown",
   "metadata": {
    "id": "QFIgyyNNnWrO"
   },
   "source": [
    "> ## 1) 'Latent Space' Size"
   ]
  },
  {
   "cell_type": "code",
   "execution_count": 6,
   "metadata": {
    "executionInfo": {
     "elapsed": 540,
     "status": "ok",
     "timestamp": 1633314077078,
     "user": {
      "displayName": "Joon Chun",
      "photoUrl": "https://lh3.googleusercontent.com/a/default-user=s64",
      "userId": "11589729376972489768"
     },
     "user_tz": -540
    },
    "id": "EilSWn-YEUO5"
   },
   "outputs": [],
   "source": [
    "encoding_dim = 32"
   ]
  },
  {
   "cell_type": "markdown",
   "metadata": {
    "id": "rtjzPfv8XpJL"
   },
   "source": [
    "> ## 2) Encoder\n",
    "\n",
    "* Input"
   ]
  },
  {
   "cell_type": "code",
   "execution_count": 7,
   "metadata": {
    "executionInfo": {
     "elapsed": 350,
     "status": "ok",
     "timestamp": 1633314087811,
     "user": {
      "displayName": "Joon Chun",
      "photoUrl": "https://lh3.googleusercontent.com/a/default-user=s64",
      "userId": "11589729376972489768"
     },
     "user_tz": -540
    },
    "id": "3jxR1CLgGZUe"
   },
   "outputs": [],
   "source": [
    "from tensorflow.keras import layers\n",
    "\n",
    "input_img = layers.Input(shape = (784, ))"
   ]
  },
  {
   "cell_type": "markdown",
   "metadata": {
    "id": "fls6FRJ-X_9O"
   },
   "source": [
    "* Encoding Layers and Encoding Model"
   ]
  },
  {
   "cell_type": "code",
   "execution_count": 8,
   "metadata": {
    "executionInfo": {
     "elapsed": 6326,
     "status": "ok",
     "timestamp": 1633314100532,
     "user": {
      "displayName": "Joon Chun",
      "photoUrl": "https://lh3.googleusercontent.com/a/default-user=s64",
      "userId": "11589729376972489768"
     },
     "user_tz": -540
    },
    "id": "L8xfkS0PGhob"
   },
   "outputs": [],
   "source": [
    "encoded = layers.Dense(256, activation = 'elu')(input_img)\n",
    "encoded = layers.Dense(128, activation = 'elu')(encoded)\n",
    "encoded = layers.Dense(encoding_dim, activation = 'elu')(encoded)"
   ]
  },
  {
   "cell_type": "markdown",
   "metadata": {
    "id": "ymArgitqUwN0"
   },
   "source": [
    "> ## 3) Decoder\n",
    "\n",
    "* Decoding Lyaers and Decoding Model"
   ]
  },
  {
   "cell_type": "code",
   "execution_count": 9,
   "metadata": {
    "executionInfo": {
     "elapsed": 527,
     "status": "ok",
     "timestamp": 1633314104874,
     "user": {
      "displayName": "Joon Chun",
      "photoUrl": "https://lh3.googleusercontent.com/a/default-user=s64",
      "userId": "11589729376972489768"
     },
     "user_tz": -540
    },
    "id": "tT8wkbLAGj5s"
   },
   "outputs": [],
   "source": [
    "decoded = layers.Dense(128, activation = 'elu')(encoded)\n",
    "decoded = layers.Dense(256, activation = 'elu')(decoded)\n",
    "decoded = layers.Dense(784, activation = 'sigmoid')(decoded)"
   ]
  },
  {
   "cell_type": "markdown",
   "metadata": {
    "id": "k2ulaRzxZxFh"
   },
   "source": [
    "# III. AutoEncoder Model"
   ]
  },
  {
   "cell_type": "markdown",
   "metadata": {
    "id": "DgoL7RhroCLN"
   },
   "source": [
    "> ## 1) 'autoencoder' Model"
   ]
  },
  {
   "cell_type": "code",
   "execution_count": 10,
   "metadata": {
    "executionInfo": {
     "elapsed": 505,
     "status": "ok",
     "timestamp": 1633314110306,
     "user": {
      "displayName": "Joon Chun",
      "photoUrl": "https://lh3.googleusercontent.com/a/default-user=s64",
      "userId": "11589729376972489768"
     },
     "user_tz": -540
    },
    "id": "JpzpxHBTGmxh"
   },
   "outputs": [],
   "source": [
    "from tensorflow.keras import models\n",
    "\n",
    "autoencoder = models.Model(input_img, decoded)"
   ]
  },
  {
   "cell_type": "code",
   "execution_count": 11,
   "metadata": {
    "colab": {
     "base_uri": "https://localhost:8080/"
    },
    "executionInfo": {
     "elapsed": 7,
     "status": "ok",
     "timestamp": 1633314113024,
     "user": {
      "displayName": "Joon Chun",
      "photoUrl": "https://lh3.googleusercontent.com/a/default-user=s64",
      "userId": "11589729376972489768"
     },
     "user_tz": -540
    },
    "id": "Cn6gY8-ykjKA",
    "outputId": "d02111a6-b65a-4771-8cda-ed59ddbb2a33"
   },
   "outputs": [
    {
     "name": "stdout",
     "output_type": "stream",
     "text": [
      "Model: \"model\"\n",
      "_________________________________________________________________\n",
      "Layer (type)                 Output Shape              Param #   \n",
      "=================================================================\n",
      "input_1 (InputLayer)         [(None, 784)]             0         \n",
      "_________________________________________________________________\n",
      "dense (Dense)                (None, 256)               200960    \n",
      "_________________________________________________________________\n",
      "dense_1 (Dense)              (None, 128)               32896     \n",
      "_________________________________________________________________\n",
      "dense_2 (Dense)              (None, 32)                4128      \n",
      "_________________________________________________________________\n",
      "dense_3 (Dense)              (None, 128)               4224      \n",
      "_________________________________________________________________\n",
      "dense_4 (Dense)              (None, 256)               33024     \n",
      "_________________________________________________________________\n",
      "dense_5 (Dense)              (None, 784)               201488    \n",
      "=================================================================\n",
      "Total params: 476,720\n",
      "Trainable params: 476,720\n",
      "Non-trainable params: 0\n",
      "_________________________________________________________________\n"
     ]
    }
   ],
   "source": [
    "autoencoder.summary()"
   ]
  },
  {
   "cell_type": "markdown",
   "metadata": {
    "id": "1pa13m44aIHl"
   },
   "source": [
    "> ## 2) 'encoder' Model"
   ]
  },
  {
   "cell_type": "code",
   "execution_count": 12,
   "metadata": {
    "executionInfo": {
     "elapsed": 536,
     "status": "ok",
     "timestamp": 1633314120603,
     "user": {
      "displayName": "Joon Chun",
      "photoUrl": "https://lh3.googleusercontent.com/a/default-user=s64",
      "userId": "11589729376972489768"
     },
     "user_tz": -540
    },
    "id": "3-q87PJqGpTt"
   },
   "outputs": [],
   "source": [
    "encoder = models.Model(input_img, encoded)"
   ]
  },
  {
   "cell_type": "code",
   "execution_count": 13,
   "metadata": {
    "colab": {
     "base_uri": "https://localhost:8080/"
    },
    "executionInfo": {
     "elapsed": 365,
     "status": "ok",
     "timestamp": 1633314123851,
     "user": {
      "displayName": "Joon Chun",
      "photoUrl": "https://lh3.googleusercontent.com/a/default-user=s64",
      "userId": "11589729376972489768"
     },
     "user_tz": -540
    },
    "id": "3sr4PWhXkntG",
    "outputId": "a7d194d2-5a5b-4129-a903-e50021aea3ab"
   },
   "outputs": [
    {
     "name": "stdout",
     "output_type": "stream",
     "text": [
      "Model: \"model_1\"\n",
      "_________________________________________________________________\n",
      "Layer (type)                 Output Shape              Param #   \n",
      "=================================================================\n",
      "input_1 (InputLayer)         [(None, 784)]             0         \n",
      "_________________________________________________________________\n",
      "dense (Dense)                (None, 256)               200960    \n",
      "_________________________________________________________________\n",
      "dense_1 (Dense)              (None, 128)               32896     \n",
      "_________________________________________________________________\n",
      "dense_2 (Dense)              (None, 32)                4128      \n",
      "=================================================================\n",
      "Total params: 237,984\n",
      "Trainable params: 237,984\n",
      "Non-trainable params: 0\n",
      "_________________________________________________________________\n"
     ]
    }
   ],
   "source": [
    "encoder.summary()"
   ]
  },
  {
   "cell_type": "markdown",
   "metadata": {
    "id": "KejKI3YUaZcF"
   },
   "source": [
    "> ## 3) 'decoder' Model"
   ]
  },
  {
   "cell_type": "code",
   "execution_count": 14,
   "metadata": {
    "executionInfo": {
     "elapsed": 518,
     "status": "ok",
     "timestamp": 1633314128646,
     "user": {
      "displayName": "Joon Chun",
      "photoUrl": "https://lh3.googleusercontent.com/a/default-user=s64",
      "userId": "11589729376972489768"
     },
     "user_tz": -540
    },
    "id": "epqqeAcqGrs5"
   },
   "outputs": [],
   "source": [
    "encoded_input = layers.Input(shape = (encoding_dim,))\n",
    "\n",
    "decoder_layer = autoencoder.layers[-3](encoded_input)\n",
    "decoder_layer = autoencoder.layers[-2](decoder_layer)\n",
    "decoder_layer = autoencoder.layers[-1](decoder_layer)\n",
    "\n",
    "decoder = models.Model(encoded_input, decoder_layer)"
   ]
  },
  {
   "cell_type": "code",
   "execution_count": 15,
   "metadata": {
    "colab": {
     "base_uri": "https://localhost:8080/"
    },
    "executionInfo": {
     "elapsed": 359,
     "status": "ok",
     "timestamp": 1633314131803,
     "user": {
      "displayName": "Joon Chun",
      "photoUrl": "https://lh3.googleusercontent.com/a/default-user=s64",
      "userId": "11589729376972489768"
     },
     "user_tz": -540
    },
    "id": "48ZrxZI_k1OA",
    "outputId": "b68d3e0d-e9a9-4af9-f501-81ac4c711cb2"
   },
   "outputs": [
    {
     "name": "stdout",
     "output_type": "stream",
     "text": [
      "Model: \"model_2\"\n",
      "_________________________________________________________________\n",
      "Layer (type)                 Output Shape              Param #   \n",
      "=================================================================\n",
      "input_2 (InputLayer)         [(None, 32)]              0         \n",
      "_________________________________________________________________\n",
      "dense_3 (Dense)              (None, 128)               4224      \n",
      "_________________________________________________________________\n",
      "dense_4 (Dense)              (None, 256)               33024     \n",
      "_________________________________________________________________\n",
      "dense_5 (Dense)              (None, 784)               201488    \n",
      "=================================================================\n",
      "Total params: 238,736\n",
      "Trainable params: 238,736\n",
      "Non-trainable params: 0\n",
      "_________________________________________________________________\n"
     ]
    }
   ],
   "source": [
    "decoder.summary()"
   ]
  },
  {
   "cell_type": "markdown",
   "metadata": {
    "id": "Mx0sFds_acVA"
   },
   "source": [
    "# IV. Model Fit"
   ]
  },
  {
   "cell_type": "markdown",
   "metadata": {
    "id": "b0qbhR-Oohf7"
   },
   "source": [
    "> ## 1) Model Compile"
   ]
  },
  {
   "cell_type": "code",
   "execution_count": 16,
   "metadata": {
    "executionInfo": {
     "elapsed": 342,
     "status": "ok",
     "timestamp": 1633314137027,
     "user": {
      "displayName": "Joon Chun",
      "photoUrl": "https://lh3.googleusercontent.com/a/default-user=s64",
      "userId": "11589729376972489768"
     },
     "user_tz": -540
    },
    "id": "sbv4XJFmDKN1"
   },
   "outputs": [],
   "source": [
    "autoencoder.compile(loss = 'binary_crossentropy',\n",
    "                    optimizer = 'adam')"
   ]
  },
  {
   "cell_type": "markdown",
   "metadata": {
    "id": "R9NHOiEOok7B"
   },
   "source": [
    "> ## 2) Model Training"
   ]
  },
  {
   "cell_type": "code",
   "execution_count": 17,
   "metadata": {
    "colab": {
     "base_uri": "https://localhost:8080/"
    },
    "executionInfo": {
     "elapsed": 83566,
     "status": "ok",
     "timestamp": 1633314223787,
     "user": {
      "displayName": "Joon Chun",
      "photoUrl": "https://lh3.googleusercontent.com/a/default-user=s64",
      "userId": "11589729376972489768"
     },
     "user_tz": -540
    },
    "id": "Agsm8iEYDPqM",
    "outputId": "7e5e136d-b123-44db-a224-a88934253847"
   },
   "outputs": [
    {
     "name": "stdout",
     "output_type": "stream",
     "text": [
      "Epoch 1/50\n",
      "235/235 [==============================] - 5s 6ms/step - loss: 0.1990 - val_loss: 0.1379\n",
      "Epoch 2/50\n",
      "235/235 [==============================] - 1s 6ms/step - loss: 0.1253 - val_loss: 0.1143\n",
      "Epoch 3/50\n",
      "235/235 [==============================] - 1s 6ms/step - loss: 0.1120 - val_loss: 0.1071\n",
      "Epoch 4/50\n",
      "235/235 [==============================] - 1s 6ms/step - loss: 0.1062 - val_loss: 0.1027\n",
      "Epoch 5/50\n",
      "235/235 [==============================] - 1s 6ms/step - loss: 0.1019 - val_loss: 0.0987\n",
      "Epoch 6/50\n",
      "235/235 [==============================] - 1s 6ms/step - loss: 0.0986 - val_loss: 0.0964\n",
      "Epoch 7/50\n",
      "235/235 [==============================] - 1s 6ms/step - loss: 0.0964 - val_loss: 0.0945\n",
      "Epoch 8/50\n",
      "235/235 [==============================] - 1s 6ms/step - loss: 0.0948 - val_loss: 0.0929\n",
      "Epoch 9/50\n",
      "235/235 [==============================] - 1s 6ms/step - loss: 0.0933 - val_loss: 0.0922\n",
      "Epoch 10/50\n",
      "235/235 [==============================] - 1s 6ms/step - loss: 0.0920 - val_loss: 0.0909\n",
      "Epoch 11/50\n",
      "235/235 [==============================] - 1s 6ms/step - loss: 0.0909 - val_loss: 0.0897\n",
      "Epoch 12/50\n",
      "235/235 [==============================] - 1s 6ms/step - loss: 0.0899 - val_loss: 0.0890\n",
      "Epoch 13/50\n",
      "235/235 [==============================] - 1s 6ms/step - loss: 0.0890 - val_loss: 0.0877\n",
      "Epoch 14/50\n",
      "235/235 [==============================] - 1s 6ms/step - loss: 0.0881 - val_loss: 0.0872\n",
      "Epoch 15/50\n",
      "235/235 [==============================] - 1s 6ms/step - loss: 0.0874 - val_loss: 0.0868\n",
      "Epoch 16/50\n",
      "235/235 [==============================] - 1s 6ms/step - loss: 0.0868 - val_loss: 0.0860\n",
      "Epoch 17/50\n",
      "235/235 [==============================] - 1s 6ms/step - loss: 0.0862 - val_loss: 0.0856\n",
      "Epoch 18/50\n",
      "235/235 [==============================] - 1s 6ms/step - loss: 0.0856 - val_loss: 0.0848\n",
      "Epoch 19/50\n",
      "235/235 [==============================] - 1s 6ms/step - loss: 0.0850 - val_loss: 0.0843\n",
      "Epoch 20/50\n",
      "235/235 [==============================] - 1s 6ms/step - loss: 0.0845 - val_loss: 0.0839\n",
      "Epoch 21/50\n",
      "235/235 [==============================] - 1s 6ms/step - loss: 0.0841 - val_loss: 0.0837\n",
      "Epoch 22/50\n",
      "235/235 [==============================] - 1s 6ms/step - loss: 0.0837 - val_loss: 0.0835\n",
      "Epoch 23/50\n",
      "235/235 [==============================] - 1s 6ms/step - loss: 0.0834 - val_loss: 0.0830\n",
      "Epoch 24/50\n",
      "235/235 [==============================] - 1s 6ms/step - loss: 0.0831 - val_loss: 0.0826\n",
      "Epoch 25/50\n",
      "235/235 [==============================] - 1s 6ms/step - loss: 0.0828 - val_loss: 0.0824\n",
      "Epoch 26/50\n",
      "235/235 [==============================] - 1s 6ms/step - loss: 0.0825 - val_loss: 0.0823\n",
      "Epoch 27/50\n",
      "235/235 [==============================] - 1s 6ms/step - loss: 0.0821 - val_loss: 0.0820\n",
      "Epoch 28/50\n",
      "235/235 [==============================] - 1s 6ms/step - loss: 0.0818 - val_loss: 0.0813\n",
      "Epoch 29/50\n",
      "235/235 [==============================] - 1s 6ms/step - loss: 0.0814 - val_loss: 0.0813\n",
      "Epoch 30/50\n",
      "235/235 [==============================] - 1s 6ms/step - loss: 0.0810 - val_loss: 0.0808\n",
      "Epoch 31/50\n",
      "235/235 [==============================] - 1s 6ms/step - loss: 0.0807 - val_loss: 0.0805\n",
      "Epoch 32/50\n",
      "235/235 [==============================] - 1s 6ms/step - loss: 0.0804 - val_loss: 0.0803\n",
      "Epoch 33/50\n",
      "235/235 [==============================] - 1s 6ms/step - loss: 0.0802 - val_loss: 0.0800\n",
      "Epoch 34/50\n",
      "235/235 [==============================] - 1s 6ms/step - loss: 0.0799 - val_loss: 0.0798\n",
      "Epoch 35/50\n",
      "235/235 [==============================] - 1s 6ms/step - loss: 0.0796 - val_loss: 0.0796\n",
      "Epoch 36/50\n",
      "235/235 [==============================] - 1s 6ms/step - loss: 0.0794 - val_loss: 0.0795\n",
      "Epoch 37/50\n",
      "235/235 [==============================] - 1s 6ms/step - loss: 0.0792 - val_loss: 0.0792\n",
      "Epoch 38/50\n",
      "235/235 [==============================] - 1s 6ms/step - loss: 0.0790 - val_loss: 0.0792\n",
      "Epoch 39/50\n",
      "235/235 [==============================] - 1s 6ms/step - loss: 0.0789 - val_loss: 0.0788\n",
      "Epoch 40/50\n",
      "235/235 [==============================] - 1s 6ms/step - loss: 0.0787 - val_loss: 0.0788\n",
      "Epoch 41/50\n",
      "235/235 [==============================] - 1s 6ms/step - loss: 0.0785 - val_loss: 0.0785\n",
      "Epoch 42/50\n",
      "235/235 [==============================] - 1s 6ms/step - loss: 0.0784 - val_loss: 0.0787\n",
      "Epoch 43/50\n",
      "235/235 [==============================] - 1s 6ms/step - loss: 0.0783 - val_loss: 0.0783\n",
      "Epoch 44/50\n",
      "235/235 [==============================] - 1s 6ms/step - loss: 0.0782 - val_loss: 0.0782\n",
      "Epoch 45/50\n",
      "235/235 [==============================] - 1s 6ms/step - loss: 0.0780 - val_loss: 0.0782\n",
      "Epoch 46/50\n",
      "235/235 [==============================] - 1s 6ms/step - loss: 0.0779 - val_loss: 0.0781\n",
      "Epoch 47/50\n",
      "235/235 [==============================] - 1s 6ms/step - loss: 0.0777 - val_loss: 0.0779\n",
      "Epoch 48/50\n",
      "235/235 [==============================] - 1s 6ms/step - loss: 0.0775 - val_loss: 0.0779\n",
      "Epoch 49/50\n",
      "235/235 [==============================] - 1s 6ms/step - loss: 0.0774 - val_loss: 0.0775\n",
      "Epoch 50/50\n",
      "235/235 [==============================] - 1s 6ms/step - loss: 0.0771 - val_loss: 0.0773\n"
     ]
    },
    {
     "data": {
      "text/plain": [
       "<keras.callbacks.History at 0x7f1fe0685c10>"
      ]
     },
     "execution_count": 17,
     "metadata": {},
     "output_type": "execute_result"
    }
   ],
   "source": [
    "autoencoder.fit(X_train, X_train,\n",
    "                epochs = 50,\n",
    "                batch_size = 256,\n",
    "                validation_data = (X_test, X_test))"
   ]
  },
  {
   "cell_type": "markdown",
   "metadata": {
    "id": "G7p7EaOIozaU"
   },
   "source": [
    "# V. Model Predict"
   ]
  },
  {
   "cell_type": "markdown",
   "metadata": {
    "id": "zS4gZIXIo_H_"
   },
   "source": [
    "> ## 1) Imgae Encoding\n",
    "\n",
    "* Create 'Latent Space'"
   ]
  },
  {
   "cell_type": "code",
   "execution_count": 18,
   "metadata": {
    "colab": {
     "base_uri": "https://localhost:8080/"
    },
    "executionInfo": {
     "elapsed": 934,
     "status": "ok",
     "timestamp": 1633314232398,
     "user": {
      "displayName": "Joon Chun",
      "photoUrl": "https://lh3.googleusercontent.com/a/default-user=s64",
      "userId": "11589729376972489768"
     },
     "user_tz": -540
    },
    "id": "ZdCO6BgLDZ7a",
    "outputId": "d2819913-0902-4f71-db83-ad26bb08b3ca"
   },
   "outputs": [
    {
     "data": {
      "text/plain": [
       "(10000, 32)"
      ]
     },
     "execution_count": 18,
     "metadata": {},
     "output_type": "execute_result"
    }
   ],
   "source": [
    "encoded_imgs = encoder.predict(X_test)\n",
    "\n",
    "encoded_imgs.shape"
   ]
  },
  {
   "cell_type": "markdown",
   "metadata": {
    "id": "b5tAly4GpGBQ"
   },
   "source": [
    "> ## 2) 'Latent Space' Decoding"
   ]
  },
  {
   "cell_type": "code",
   "execution_count": 19,
   "metadata": {
    "colab": {
     "base_uri": "https://localhost:8080/"
    },
    "executionInfo": {
     "elapsed": 500,
     "status": "ok",
     "timestamp": 1633314235586,
     "user": {
      "displayName": "Joon Chun",
      "photoUrl": "https://lh3.googleusercontent.com/a/default-user=s64",
      "userId": "11589729376972489768"
     },
     "user_tz": -540
    },
    "id": "n4hzRc7spLw3",
    "outputId": "e132840b-114f-4a08-a35a-864533d2798b"
   },
   "outputs": [
    {
     "data": {
      "text/plain": [
       "(10000, 784)"
      ]
     },
     "execution_count": 19,
     "metadata": {},
     "output_type": "execute_result"
    }
   ],
   "source": [
    "decoded_imgs = decoder.predict(encoded_imgs)\n",
    "\n",
    "decoded_imgs.shape"
   ]
  },
  {
   "cell_type": "markdown",
   "metadata": {
    "id": "FgQjGRiHpYQp"
   },
   "source": [
    "# VI. Visualization\n",
    "\n",
    "* 10개의 이미지 데이터를 모델에 적용"
   ]
  },
  {
   "cell_type": "code",
   "execution_count": 22,
   "metadata": {
    "colab": {
     "base_uri": "https://localhost:8080/",
     "height": 248
    },
    "executionInfo": {
     "elapsed": 1380,
     "status": "ok",
     "timestamp": 1633314250169,
     "user": {
      "displayName": "Joon Chun",
      "photoUrl": "https://lh3.googleusercontent.com/a/default-user=s64",
      "userId": "11589729376972489768"
     },
     "user_tz": -540
    },
    "id": "aDhvHjEKDesr",
    "outputId": "a19dd106-007c-4b20-e855-58c5c515dc79"
   },
   "outputs": [
    {
     "data": {
      "image/png": "[encoded data removed]",
      "text/plain": [
       "<Figure size 1440x288 with 20 Axes>"
      ]
     },
     "metadata": {
      "needs_background": "light"
     },
     "output_type": "display_data"
    }
   ],
   "source": [
    "import matplotlib.pyplot as plt\n",
    "\n",
    "n = 10\n",
    "\n",
    "plt.figure(figsize = (20, 4))\n",
    "for i in range(n):\n",
    "\n",
    "    ax = plt.subplot(2, n, i + 1)\n",
    "    plt.imshow(X_test[i].reshape(28, 28))\n",
    "    plt.gray()\n",
    "    ax.get_xaxis().set_visible(False)\n",
    "    ax.get_yaxis().set_visible(False)\n",
    "\n",
    "    ax = plt.subplot(2, n, i + 1 + n)\n",
    "    plt.imshow(decoded_imgs[i].reshape(28, 28))\n",
    "    plt.gray()\n",
    "    ax.get_xaxis().set_visible(False)\n",
    "    ax.get_yaxis().set_visible(False)\n",
    "\n",
    "plt.show()"
   ]
  },
  {
   "cell_type": "markdown",
   "metadata": {
    "id": "afj2ZM1OPVO_"
   },
   "source": [
    "# \n",
    "# \n",
    "# \n",
    "# The End\n",
    "# \n",
    "# \n",
    "# "
   ]
  }
 ],
 "metadata": {
  "accelerator": "GPU",
  "colab": {
   "collapsed_sections": [],
   "name": "001_AutoEncoder_AE_GPU.ipynb",
   "provenance": []
  },
  "kernelspec": {
   "display_name": "Python 3 (ipykernel)",
   "language": "python",
   "name": "python3"
  },
  "language_info": {
   "codemirror_mode": {
    "name": "ipython",
    "version": 3
   },
   "file_extension": ".py",
   "mimetype": "text/x-python",
   "name": "python",
   "nbconvert_exporter": "python",
   "pygments_lexer": "ipython3",
   "version": "3.9.7"
  },
  "toc": {
   "base_numbering": 1,
   "nav_menu": {},
   "number_sections": true,
   "sideBar": true,
   "skip_h1_title": false,
   "title_cell": "Table of Contents",
   "title_sidebar": "Contents",
   "toc_cell": false,
   "toc_position": {},
   "toc_section_display": true,
   "toc_window_display": false
  }
 },
 "nbformat": 4,
 "nbformat_minor": 1
}
